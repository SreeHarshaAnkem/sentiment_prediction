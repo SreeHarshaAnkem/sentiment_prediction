{
 "cells": [
  {
   "cell_type": "code",
   "execution_count": 12,
   "metadata": {
    "ExecuteTime": {
     "end_time": "2021-02-22T21:40:34.808012Z",
     "start_time": "2021-02-22T21:40:34.760091Z"
    }
   },
   "outputs": [],
   "source": [
    "import os\n",
    "import pandas as pd\n",
    "import numpy as np"
   ]
  },
  {
   "cell_type": "code",
   "execution_count": 13,
   "metadata": {
    "ExecuteTime": {
     "end_time": "2021-02-22T21:40:36.004951Z",
     "start_time": "2021-02-22T21:40:34.920972Z"
    }
   },
   "outputs": [
    {
     "data": {
      "text/html": [
       "<div>\n",
       "<style scoped>\n",
       "    .dataframe tbody tr th:only-of-type {\n",
       "        vertical-align: middle;\n",
       "    }\n",
       "\n",
       "    .dataframe tbody tr th {\n",
       "        vertical-align: top;\n",
       "    }\n",
       "\n",
       "    .dataframe thead th {\n",
       "        text-align: right;\n",
       "    }\n",
       "</style>\n",
       "<table border=\"1\" class=\"dataframe\">\n",
       "  <thead>\n",
       "    <tr style=\"text-align: right;\">\n",
       "      <th></th>\n",
       "      <th>review</th>\n",
       "      <th>sentiment</th>\n",
       "    </tr>\n",
       "  </thead>\n",
       "  <tbody>\n",
       "    <tr>\n",
       "      <th>0</th>\n",
       "      <td>One of the other reviewers has mentioned that ...</td>\n",
       "      <td>positive</td>\n",
       "    </tr>\n",
       "    <tr>\n",
       "      <th>1</th>\n",
       "      <td>A wonderful little production. &lt;br /&gt;&lt;br /&gt;The...</td>\n",
       "      <td>positive</td>\n",
       "    </tr>\n",
       "    <tr>\n",
       "      <th>2</th>\n",
       "      <td>I thought this was a wonderful way to spend ti...</td>\n",
       "      <td>positive</td>\n",
       "    </tr>\n",
       "    <tr>\n",
       "      <th>3</th>\n",
       "      <td>Basically there's a family where a little boy ...</td>\n",
       "      <td>negative</td>\n",
       "    </tr>\n",
       "    <tr>\n",
       "      <th>4</th>\n",
       "      <td>Petter Mattei's \"Love in the Time of Money\" is...</td>\n",
       "      <td>positive</td>\n",
       "    </tr>\n",
       "  </tbody>\n",
       "</table>\n",
       "</div>"
      ],
      "text/plain": [
       "                                              review sentiment\n",
       "0  One of the other reviewers has mentioned that ...  positive\n",
       "1  A wonderful little production. <br /><br />The...  positive\n",
       "2  I thought this was a wonderful way to spend ti...  positive\n",
       "3  Basically there's a family where a little boy ...  negative\n",
       "4  Petter Mattei's \"Love in the Time of Money\" is...  positive"
      ]
     },
     "execution_count": 13,
     "metadata": {},
     "output_type": "execute_result"
    }
   ],
   "source": [
    "df = pd.read_csv(\"/Users/sreeharshaankem/MachineLearning/pytorch_nlp_book/data/IMDB Dataset.csv\")\n",
    "df.head()"
   ]
  },
  {
   "cell_type": "code",
   "execution_count": 14,
   "metadata": {
    "ExecuteTime": {
     "end_time": "2021-02-22T21:40:36.426554Z",
     "start_time": "2021-02-22T21:40:36.008461Z"
    }
   },
   "outputs": [],
   "source": [
    "reviews_json = df.to_dict(orient=\"records\")"
   ]
  },
  {
   "cell_type": "markdown",
   "metadata": {
    "ExecuteTime": {
     "end_time": "2021-02-21T13:36:46.968025Z",
     "start_time": "2021-02-21T13:36:46.934186Z"
    }
   },
   "source": [
    "# Model Training"
   ]
  },
  {
   "cell_type": "code",
   "execution_count": 16,
   "metadata": {
    "ExecuteTime": {
     "end_time": "2021-02-22T21:40:36.634603Z",
     "start_time": "2021-02-22T21:40:36.623511Z"
    }
   },
   "outputs": [],
   "source": [
    "os.chdir(\"/Users/sreeharshaankem/MachineLearning/mlops/sentiment_prediction/predict_sentiment/\")"
   ]
  },
  {
   "cell_type": "code",
   "execution_count": 17,
   "metadata": {
    "ExecuteTime": {
     "end_time": "2021-02-22T21:40:37.022264Z",
     "start_time": "2021-02-22T21:40:37.015013Z"
    }
   },
   "outputs": [],
   "source": [
    "import tensorflow as tf\n",
    "from tensorflow.keras import layers as L\n",
    "from tensorflow.keras.models import Model\n",
    "from tensorflow.keras.optimizers import Adam\n",
    "from tensorflow.keras.callbacks import CSVLogger, ModelCheckpoint, EarlyStopping\n",
    "import config\n",
    "from prepare_data import PrepareData\n"
   ]
  },
  {
   "cell_type": "code",
   "execution_count": 18,
   "metadata": {
    "ExecuteTime": {
     "end_time": "2021-02-22T21:40:37.471701Z",
     "start_time": "2021-02-22T21:40:37.329343Z"
    }
   },
   "outputs": [
    {
     "name": "stdout",
     "output_type": "stream",
     "text": [
      "/Users/sreeharshaankem/MachineLearning/mlops/sentiment_prediction/predict_sentiment\r\n"
     ]
    }
   ],
   "source": [
    "!pwd"
   ]
  },
  {
   "cell_type": "code",
   "execution_count": null,
   "metadata": {},
   "outputs": [],
   "source": []
  },
  {
   "cell_type": "code",
   "execution_count": 20,
   "metadata": {
    "ExecuteTime": {
     "end_time": "2021-02-22T21:40:43.232178Z",
     "start_time": "2021-02-22T21:40:43.217540Z"
    }
   },
   "outputs": [],
   "source": [
    "class TrainModel(PrepareData):\n",
    "    def __init__(self, epochs, batch_size):\n",
    "        super().__init__(input_fields=config.INPUT_FIELDS,\n",
    "                                text_field=config.TEXT_FIELD,\n",
    "                                target_field=config.TARGET_FIELD,\n",
    "                                maxlen=config.MAX_LEN,\n",
    "                                padding=\"pre\",\n",
    "                                vocab_size=config.VOCAB_SIZE)\n",
    "        self.epochs = epochs\n",
    "        self.batch_size=batch_size\n",
    "        self.model = self.model_architecture()\n",
    "\n",
    "    def model_architecture(self):\n",
    "        inp = L.Input(shape=(config.MAX_LEN, ),name=\"text_input\")\n",
    "        embedding = L.Embedding(input_dim = config.VOCAB_SIZE+1, \n",
    "                                output_dim=config.EMBEDDING_DIM)(inp)\n",
    "        mean_embedding = L.Lambda(lambda x: tf.reduce_mean(x, axis=1))(embedding)\n",
    "        fc1 = L.Dense(units=16, activation=\"relu\")(mean_embedding)\n",
    "        out = L.Dense(units=1, activation=\"sigmoid\", name=\"sentiment_score\")(fc1)\n",
    "        model = Model(inputs=[inp],outputs=[out])\n",
    "                                    \n",
    "        model.compile(loss=\"binary_crossentropy\", metrics=[\"accuracy\"], \n",
    "                     optimizer = Adam(lr=1e-4))\n",
    "        return model        \n",
    "        \n",
    "    def run_training(self, input_json):\n",
    "        train_x, test_x, train_y, test_y = self.run_prep(input_json, split=True)\n",
    "        train_x = np.array(train_x.tolist())\n",
    "        test_x = np.array(test_x.tolist())\n",
    "        \n",
    "        os.chdir(\"/Users/sreeharshaankem/MachineLearning/mlops/sentiment_prediction/training\")\n",
    "        logger = CSVLogger(filename=\"logs/training.csv\")\n",
    "        es = EarlyStopping(monitor=\"val_loss\", patience=3)\n",
    "        checkpoint = ModelCheckpoint(filepath=\"models/weights.{epoch:02d}-{val_loss:.2f}.hdf5\",\n",
    "                                    save_best_only=True, save_weights_only=True)\n",
    "        \n",
    "        self.model.fit(train_x, train_y, epochs=self.epochs, validation_data=(test_x, test_y),\n",
    "                      batch_size=self.batch_size, callbacks = [es, logger, checkpoint])\n",
    "        "
   ]
  },
  {
   "cell_type": "code",
   "execution_count": 24,
   "metadata": {
    "ExecuteTime": {
     "end_time": "2021-02-22T21:41:35.152496Z",
     "start_time": "2021-02-22T21:41:35.096561Z"
    }
   },
   "outputs": [],
   "source": [
    "trainer = TrainModel(\n",
    "                    epochs = config.EPOCHS,\n",
    "                    batch_size=config.BATCH_SIZE)"
   ]
  },
  {
   "cell_type": "code",
   "execution_count": 25,
   "metadata": {
    "ExecuteTime": {
     "end_time": "2021-02-22T21:42:38.528109Z",
     "start_time": "2021-02-22T21:41:35.392481Z"
    }
   },
   "outputs": [
    {
     "name": "stdout",
     "output_type": "stream",
     "text": [
      "Epoch 1/10\n",
      "1250/1250 [==============================] - 4s 3ms/step - loss: 0.6600 - accuracy: 0.6914 - val_loss: 0.5947 - val_accuracy: 0.7600\n",
      "Epoch 2/10\n",
      "1250/1250 [==============================] - 4s 3ms/step - loss: 0.5205 - accuracy: 0.7842 - val_loss: 0.4672 - val_accuracy: 0.8007\n",
      "Epoch 3/10\n",
      "1250/1250 [==============================] - 4s 3ms/step - loss: 0.4357 - accuracy: 0.8088 - val_loss: 0.4219 - val_accuracy: 0.8139\n",
      "Epoch 4/10\n",
      "1250/1250 [==============================] - 3s 3ms/step - loss: 0.4024 - accuracy: 0.8209 - val_loss: 0.4050 - val_accuracy: 0.8187\n",
      "Epoch 5/10\n",
      "1250/1250 [==============================] - 4s 3ms/step - loss: 0.3862 - accuracy: 0.8282 - val_loss: 0.3977 - val_accuracy: 0.8209\n",
      "Epoch 6/10\n",
      "1250/1250 [==============================] - 4s 3ms/step - loss: 0.3764 - accuracy: 0.8334 - val_loss: 0.3948 - val_accuracy: 0.8234\n",
      "Epoch 7/10\n",
      "1250/1250 [==============================] - 4s 3ms/step - loss: 0.3700 - accuracy: 0.8369 - val_loss: 0.3939 - val_accuracy: 0.8204\n",
      "Epoch 8/10\n",
      "1250/1250 [==============================] - 4s 3ms/step - loss: 0.3655 - accuracy: 0.8382 - val_loss: 0.3938 - val_accuracy: 0.8209\n",
      "Epoch 9/10\n",
      "1250/1250 [==============================] - 4s 3ms/step - loss: 0.3622 - accuracy: 0.8404 - val_loss: 0.3948 - val_accuracy: 0.8202\n",
      "Epoch 10/10\n",
      "1250/1250 [==============================] - 4s 3ms/step - loss: 0.3596 - accuracy: 0.8405 - val_loss: 0.3954 - val_accuracy: 0.8195\n"
     ]
    }
   ],
   "source": [
    "trainer.run_training(input_json=reviews_json)"
   ]
  },
  {
   "cell_type": "code",
   "execution_count": null,
   "metadata": {},
   "outputs": [],
   "source": []
  }
 ],
 "metadata": {
  "kernelspec": {
   "display_name": "Python 3",
   "language": "python",
   "name": "python3"
  },
  "language_info": {
   "codemirror_mode": {
    "name": "ipython",
    "version": 3
   },
   "file_extension": ".py",
   "mimetype": "text/x-python",
   "name": "python",
   "nbconvert_exporter": "python",
   "pygments_lexer": "ipython3",
   "version": "3.8.6"
  },
  "toc": {
   "base_numbering": 1,
   "nav_menu": {},
   "number_sections": true,
   "sideBar": true,
   "skip_h1_title": false,
   "title_cell": "Table of Contents",
   "title_sidebar": "Contents",
   "toc_cell": false,
   "toc_position": {},
   "toc_section_display": true,
   "toc_window_display": false
  }
 },
 "nbformat": 4,
 "nbformat_minor": 4
}
